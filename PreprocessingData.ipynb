{
 "cells": [
  {
   "cell_type": "code",
   "execution_count": 198,
   "metadata": {},
   "outputs": [],
   "source": [
    "import pandas as pd\n",
    "import seaborn as sns\n",
    "import numpy as np\n",
    "import matplotlib.pyplot as plt"
   ]
  },
  {
   "cell_type": "code",
   "execution_count": 219,
   "metadata": {},
   "outputs": [],
   "source": [
    "data= pd.read_csv(r\"C:\\Users\\gupta\\Downloads\\Train_gQ1XM0h.csv\")"
   ]
  },
  {
   "cell_type": "code",
   "execution_count": 220,
   "metadata": {},
   "outputs": [
    {
     "data": {
      "text/html": [
       "<div>\n",
       "<style scoped>\n",
       "    .dataframe tbody tr th:only-of-type {\n",
       "        vertical-align: middle;\n",
       "    }\n",
       "\n",
       "    .dataframe tbody tr th {\n",
       "        vertical-align: top;\n",
       "    }\n",
       "\n",
       "    .dataframe thead th {\n",
       "        text-align: right;\n",
       "    }\n",
       "</style>\n",
       "<table border=\"1\" class=\"dataframe\">\n",
       "  <thead>\n",
       "    <tr style=\"text-align: right;\">\n",
       "      <th></th>\n",
       "      <th>ID</th>\n",
       "      <th>Office_PIN</th>\n",
       "      <th>Application_Receipt_Date</th>\n",
       "      <th>Applicant_City_PIN</th>\n",
       "      <th>Applicant_Gender</th>\n",
       "      <th>Applicant_BirthDate</th>\n",
       "      <th>Applicant_Marital_Status</th>\n",
       "      <th>Applicant_Occupation</th>\n",
       "      <th>Applicant_Qualification</th>\n",
       "      <th>Manager_DOJ</th>\n",
       "      <th>...</th>\n",
       "      <th>Manager_Status</th>\n",
       "      <th>Manager_Gender</th>\n",
       "      <th>Manager_DoB</th>\n",
       "      <th>Manager_Num_Application</th>\n",
       "      <th>Manager_Num_Coded</th>\n",
       "      <th>Manager_Business</th>\n",
       "      <th>Manager_Num_Products</th>\n",
       "      <th>Manager_Business2</th>\n",
       "      <th>Manager_Num_Products2</th>\n",
       "      <th>Business_Sourced</th>\n",
       "    </tr>\n",
       "  </thead>\n",
       "  <tbody>\n",
       "    <tr>\n",
       "      <th>0</th>\n",
       "      <td>FIN1000001</td>\n",
       "      <td>842001</td>\n",
       "      <td>4/16/2007</td>\n",
       "      <td>844120.0</td>\n",
       "      <td>M</td>\n",
       "      <td>12/19/1971</td>\n",
       "      <td>M</td>\n",
       "      <td>Others</td>\n",
       "      <td>Graduate</td>\n",
       "      <td>11/10/2005</td>\n",
       "      <td>...</td>\n",
       "      <td>Confirmation</td>\n",
       "      <td>M</td>\n",
       "      <td>2/17/1978</td>\n",
       "      <td>2.0</td>\n",
       "      <td>1.0</td>\n",
       "      <td>335249.0</td>\n",
       "      <td>28.0</td>\n",
       "      <td>335249.0</td>\n",
       "      <td>28.0</td>\n",
       "      <td>0</td>\n",
       "    </tr>\n",
       "    <tr>\n",
       "      <th>1</th>\n",
       "      <td>FIN1000002</td>\n",
       "      <td>842001</td>\n",
       "      <td>4/16/2007</td>\n",
       "      <td>844111.0</td>\n",
       "      <td>M</td>\n",
       "      <td>2/17/1983</td>\n",
       "      <td>S</td>\n",
       "      <td>Others</td>\n",
       "      <td>Class XII</td>\n",
       "      <td>11/10/2005</td>\n",
       "      <td>...</td>\n",
       "      <td>Confirmation</td>\n",
       "      <td>M</td>\n",
       "      <td>2/17/1978</td>\n",
       "      <td>2.0</td>\n",
       "      <td>1.0</td>\n",
       "      <td>335249.0</td>\n",
       "      <td>28.0</td>\n",
       "      <td>335249.0</td>\n",
       "      <td>28.0</td>\n",
       "      <td>1</td>\n",
       "    </tr>\n",
       "    <tr>\n",
       "      <th>2</th>\n",
       "      <td>FIN1000003</td>\n",
       "      <td>800001</td>\n",
       "      <td>4/16/2007</td>\n",
       "      <td>844101.0</td>\n",
       "      <td>M</td>\n",
       "      <td>1/16/1966</td>\n",
       "      <td>M</td>\n",
       "      <td>Business</td>\n",
       "      <td>Class XII</td>\n",
       "      <td>5/27/2006</td>\n",
       "      <td>...</td>\n",
       "      <td>Confirmation</td>\n",
       "      <td>M</td>\n",
       "      <td>3/3/1969</td>\n",
       "      <td>0.0</td>\n",
       "      <td>0.0</td>\n",
       "      <td>357184.0</td>\n",
       "      <td>24.0</td>\n",
       "      <td>357184.0</td>\n",
       "      <td>24.0</td>\n",
       "      <td>0</td>\n",
       "    </tr>\n",
       "    <tr>\n",
       "      <th>3</th>\n",
       "      <td>FIN1000004</td>\n",
       "      <td>814112</td>\n",
       "      <td>4/16/2007</td>\n",
       "      <td>814112.0</td>\n",
       "      <td>M</td>\n",
       "      <td>2/3/1988</td>\n",
       "      <td>S</td>\n",
       "      <td>Salaried</td>\n",
       "      <td>Class XII</td>\n",
       "      <td>8/21/2003</td>\n",
       "      <td>...</td>\n",
       "      <td>Confirmation</td>\n",
       "      <td>F</td>\n",
       "      <td>8/14/1978</td>\n",
       "      <td>0.0</td>\n",
       "      <td>0.0</td>\n",
       "      <td>318356.0</td>\n",
       "      <td>22.0</td>\n",
       "      <td>318356.0</td>\n",
       "      <td>22.0</td>\n",
       "      <td>0</td>\n",
       "    </tr>\n",
       "    <tr>\n",
       "      <th>4</th>\n",
       "      <td>FIN1000005</td>\n",
       "      <td>814112</td>\n",
       "      <td>4/16/2007</td>\n",
       "      <td>815351.0</td>\n",
       "      <td>M</td>\n",
       "      <td>7/4/1985</td>\n",
       "      <td>M</td>\n",
       "      <td>Others</td>\n",
       "      <td>Class XII</td>\n",
       "      <td>5/8/2006</td>\n",
       "      <td>...</td>\n",
       "      <td>Confirmation</td>\n",
       "      <td>M</td>\n",
       "      <td>2/7/1971</td>\n",
       "      <td>2.0</td>\n",
       "      <td>1.0</td>\n",
       "      <td>230402.0</td>\n",
       "      <td>17.0</td>\n",
       "      <td>230402.0</td>\n",
       "      <td>17.0</td>\n",
       "      <td>0</td>\n",
       "    </tr>\n",
       "  </tbody>\n",
       "</table>\n",
       "<p>5 rows × 23 columns</p>\n",
       "</div>"
      ],
      "text/plain": [
       "           ID  Office_PIN Application_Receipt_Date  Applicant_City_PIN  \\\n",
       "0  FIN1000001      842001                4/16/2007            844120.0   \n",
       "1  FIN1000002      842001                4/16/2007            844111.0   \n",
       "2  FIN1000003      800001                4/16/2007            844101.0   \n",
       "3  FIN1000004      814112                4/16/2007            814112.0   \n",
       "4  FIN1000005      814112                4/16/2007            815351.0   \n",
       "\n",
       "  Applicant_Gender Applicant_BirthDate Applicant_Marital_Status  \\\n",
       "0                M          12/19/1971                        M   \n",
       "1                M           2/17/1983                        S   \n",
       "2                M           1/16/1966                        M   \n",
       "3                M            2/3/1988                        S   \n",
       "4                M            7/4/1985                        M   \n",
       "\n",
       "  Applicant_Occupation Applicant_Qualification Manager_DOJ  ...  \\\n",
       "0               Others                Graduate  11/10/2005  ...   \n",
       "1               Others               Class XII  11/10/2005  ...   \n",
       "2             Business               Class XII   5/27/2006  ...   \n",
       "3             Salaried               Class XII   8/21/2003  ...   \n",
       "4               Others               Class XII    5/8/2006  ...   \n",
       "\n",
       "  Manager_Status Manager_Gender  Manager_DoB Manager_Num_Application  \\\n",
       "0   Confirmation              M    2/17/1978                     2.0   \n",
       "1   Confirmation              M    2/17/1978                     2.0   \n",
       "2   Confirmation              M     3/3/1969                     0.0   \n",
       "3   Confirmation              F    8/14/1978                     0.0   \n",
       "4   Confirmation              M     2/7/1971                     2.0   \n",
       "\n",
       "  Manager_Num_Coded Manager_Business  Manager_Num_Products  Manager_Business2  \\\n",
       "0               1.0         335249.0                  28.0           335249.0   \n",
       "1               1.0         335249.0                  28.0           335249.0   \n",
       "2               0.0         357184.0                  24.0           357184.0   \n",
       "3               0.0         318356.0                  22.0           318356.0   \n",
       "4               1.0         230402.0                  17.0           230402.0   \n",
       "\n",
       "   Manager_Num_Products2  Business_Sourced  \n",
       "0                   28.0                 0  \n",
       "1                   28.0                 1  \n",
       "2                   24.0                 0  \n",
       "3                   22.0                 0  \n",
       "4                   17.0                 0  \n",
       "\n",
       "[5 rows x 23 columns]"
      ]
     },
     "execution_count": 220,
     "metadata": {},
     "output_type": "execute_result"
    }
   ],
   "source": [
    "data.head()"
   ]
  },
  {
   "cell_type": "code",
   "execution_count": 221,
   "metadata": {},
   "outputs": [
    {
     "data": {
      "text/plain": [
       "0    6260\n",
       "1    3267\n",
       "Name: Business_Sourced, dtype: int64"
      ]
     },
     "execution_count": 221,
     "metadata": {},
     "output_type": "execute_result"
    }
   ],
   "source": [
    "data[\"Business_Sourced\"].value_counts()"
   ]
  },
  {
   "cell_type": "code",
   "execution_count": 222,
   "metadata": {},
   "outputs": [
    {
     "data": {
      "text/html": [
       "<div>\n",
       "<style scoped>\n",
       "    .dataframe tbody tr th:only-of-type {\n",
       "        vertical-align: middle;\n",
       "    }\n",
       "\n",
       "    .dataframe tbody tr th {\n",
       "        vertical-align: top;\n",
       "    }\n",
       "\n",
       "    .dataframe thead th {\n",
       "        text-align: right;\n",
       "    }\n",
       "</style>\n",
       "<table border=\"1\" class=\"dataframe\">\n",
       "  <thead>\n",
       "    <tr style=\"text-align: right;\">\n",
       "      <th></th>\n",
       "      <th>Office_PIN</th>\n",
       "      <th>Applicant_City_PIN</th>\n",
       "      <th>Manager_Grade</th>\n",
       "      <th>Manager_Num_Application</th>\n",
       "      <th>Manager_Num_Coded</th>\n",
       "      <th>Manager_Business</th>\n",
       "      <th>Manager_Num_Products</th>\n",
       "      <th>Manager_Business2</th>\n",
       "      <th>Manager_Num_Products2</th>\n",
       "      <th>Business_Sourced</th>\n",
       "    </tr>\n",
       "  </thead>\n",
       "  <tbody>\n",
       "    <tr>\n",
       "      <th>Office_PIN</th>\n",
       "      <td>1.000000</td>\n",
       "      <td>0.977756</td>\n",
       "      <td>-0.077063</td>\n",
       "      <td>0.061672</td>\n",
       "      <td>0.066030</td>\n",
       "      <td>0.093603</td>\n",
       "      <td>0.132186</td>\n",
       "      <td>0.093386</td>\n",
       "      <td>0.131747</td>\n",
       "      <td>0.027682</td>\n",
       "    </tr>\n",
       "    <tr>\n",
       "      <th>Applicant_City_PIN</th>\n",
       "      <td>0.977756</td>\n",
       "      <td>1.000000</td>\n",
       "      <td>-0.091697</td>\n",
       "      <td>0.055152</td>\n",
       "      <td>0.060603</td>\n",
       "      <td>0.089794</td>\n",
       "      <td>0.131358</td>\n",
       "      <td>0.089425</td>\n",
       "      <td>0.130928</td>\n",
       "      <td>0.028036</td>\n",
       "    </tr>\n",
       "    <tr>\n",
       "      <th>Manager_Grade</th>\n",
       "      <td>-0.077063</td>\n",
       "      <td>-0.091697</td>\n",
       "      <td>1.000000</td>\n",
       "      <td>-0.022524</td>\n",
       "      <td>-0.002833</td>\n",
       "      <td>0.322211</td>\n",
       "      <td>0.210353</td>\n",
       "      <td>0.320644</td>\n",
       "      <td>0.209886</td>\n",
       "      <td>0.059363</td>\n",
       "    </tr>\n",
       "    <tr>\n",
       "      <th>Manager_Num_Application</th>\n",
       "      <td>0.061672</td>\n",
       "      <td>0.055152</td>\n",
       "      <td>-0.022524</td>\n",
       "      <td>1.000000</td>\n",
       "      <td>0.514299</td>\n",
       "      <td>0.014605</td>\n",
       "      <td>-0.030293</td>\n",
       "      <td>0.015871</td>\n",
       "      <td>-0.029977</td>\n",
       "      <td>-0.037593</td>\n",
       "    </tr>\n",
       "    <tr>\n",
       "      <th>Manager_Num_Coded</th>\n",
       "      <td>0.066030</td>\n",
       "      <td>0.060603</td>\n",
       "      <td>-0.002833</td>\n",
       "      <td>0.514299</td>\n",
       "      <td>1.000000</td>\n",
       "      <td>0.152858</td>\n",
       "      <td>0.129490</td>\n",
       "      <td>0.155289</td>\n",
       "      <td>0.130039</td>\n",
       "      <td>0.013565</td>\n",
       "    </tr>\n",
       "    <tr>\n",
       "      <th>Manager_Business</th>\n",
       "      <td>0.093603</td>\n",
       "      <td>0.089794</td>\n",
       "      <td>0.322211</td>\n",
       "      <td>0.014605</td>\n",
       "      <td>0.152858</td>\n",
       "      <td>1.000000</td>\n",
       "      <td>0.733880</td>\n",
       "      <td>0.994422</td>\n",
       "      <td>0.729147</td>\n",
       "      <td>0.031578</td>\n",
       "    </tr>\n",
       "    <tr>\n",
       "      <th>Manager_Num_Products</th>\n",
       "      <td>0.132186</td>\n",
       "      <td>0.131358</td>\n",
       "      <td>0.210353</td>\n",
       "      <td>-0.030293</td>\n",
       "      <td>0.129490</td>\n",
       "      <td>0.733880</td>\n",
       "      <td>1.000000</td>\n",
       "      <td>0.736272</td>\n",
       "      <td>0.998893</td>\n",
       "      <td>-0.011000</td>\n",
       "    </tr>\n",
       "    <tr>\n",
       "      <th>Manager_Business2</th>\n",
       "      <td>0.093386</td>\n",
       "      <td>0.089425</td>\n",
       "      <td>0.320644</td>\n",
       "      <td>0.015871</td>\n",
       "      <td>0.155289</td>\n",
       "      <td>0.994422</td>\n",
       "      <td>0.736272</td>\n",
       "      <td>1.000000</td>\n",
       "      <td>0.735594</td>\n",
       "      <td>0.031093</td>\n",
       "    </tr>\n",
       "    <tr>\n",
       "      <th>Manager_Num_Products2</th>\n",
       "      <td>0.131747</td>\n",
       "      <td>0.130928</td>\n",
       "      <td>0.209886</td>\n",
       "      <td>-0.029977</td>\n",
       "      <td>0.130039</td>\n",
       "      <td>0.729147</td>\n",
       "      <td>0.998893</td>\n",
       "      <td>0.735594</td>\n",
       "      <td>1.000000</td>\n",
       "      <td>-0.011706</td>\n",
       "    </tr>\n",
       "    <tr>\n",
       "      <th>Business_Sourced</th>\n",
       "      <td>0.027682</td>\n",
       "      <td>0.028036</td>\n",
       "      <td>0.059363</td>\n",
       "      <td>-0.037593</td>\n",
       "      <td>0.013565</td>\n",
       "      <td>0.031578</td>\n",
       "      <td>-0.011000</td>\n",
       "      <td>0.031093</td>\n",
       "      <td>-0.011706</td>\n",
       "      <td>1.000000</td>\n",
       "    </tr>\n",
       "  </tbody>\n",
       "</table>\n",
       "</div>"
      ],
      "text/plain": [
       "                         Office_PIN  Applicant_City_PIN  Manager_Grade  \\\n",
       "Office_PIN                 1.000000            0.977756      -0.077063   \n",
       "Applicant_City_PIN         0.977756            1.000000      -0.091697   \n",
       "Manager_Grade             -0.077063           -0.091697       1.000000   \n",
       "Manager_Num_Application    0.061672            0.055152      -0.022524   \n",
       "Manager_Num_Coded          0.066030            0.060603      -0.002833   \n",
       "Manager_Business           0.093603            0.089794       0.322211   \n",
       "Manager_Num_Products       0.132186            0.131358       0.210353   \n",
       "Manager_Business2          0.093386            0.089425       0.320644   \n",
       "Manager_Num_Products2      0.131747            0.130928       0.209886   \n",
       "Business_Sourced           0.027682            0.028036       0.059363   \n",
       "\n",
       "                         Manager_Num_Application  Manager_Num_Coded  \\\n",
       "Office_PIN                              0.061672           0.066030   \n",
       "Applicant_City_PIN                      0.055152           0.060603   \n",
       "Manager_Grade                          -0.022524          -0.002833   \n",
       "Manager_Num_Application                 1.000000           0.514299   \n",
       "Manager_Num_Coded                       0.514299           1.000000   \n",
       "Manager_Business                        0.014605           0.152858   \n",
       "Manager_Num_Products                   -0.030293           0.129490   \n",
       "Manager_Business2                       0.015871           0.155289   \n",
       "Manager_Num_Products2                  -0.029977           0.130039   \n",
       "Business_Sourced                       -0.037593           0.013565   \n",
       "\n",
       "                         Manager_Business  Manager_Num_Products  \\\n",
       "Office_PIN                       0.093603              0.132186   \n",
       "Applicant_City_PIN               0.089794              0.131358   \n",
       "Manager_Grade                    0.322211              0.210353   \n",
       "Manager_Num_Application          0.014605             -0.030293   \n",
       "Manager_Num_Coded                0.152858              0.129490   \n",
       "Manager_Business                 1.000000              0.733880   \n",
       "Manager_Num_Products             0.733880              1.000000   \n",
       "Manager_Business2                0.994422              0.736272   \n",
       "Manager_Num_Products2            0.729147              0.998893   \n",
       "Business_Sourced                 0.031578             -0.011000   \n",
       "\n",
       "                         Manager_Business2  Manager_Num_Products2  \\\n",
       "Office_PIN                        0.093386               0.131747   \n",
       "Applicant_City_PIN                0.089425               0.130928   \n",
       "Manager_Grade                     0.320644               0.209886   \n",
       "Manager_Num_Application           0.015871              -0.029977   \n",
       "Manager_Num_Coded                 0.155289               0.130039   \n",
       "Manager_Business                  0.994422               0.729147   \n",
       "Manager_Num_Products              0.736272               0.998893   \n",
       "Manager_Business2                 1.000000               0.735594   \n",
       "Manager_Num_Products2             0.735594               1.000000   \n",
       "Business_Sourced                  0.031093              -0.011706   \n",
       "\n",
       "                         Business_Sourced  \n",
       "Office_PIN                       0.027682  \n",
       "Applicant_City_PIN               0.028036  \n",
       "Manager_Grade                    0.059363  \n",
       "Manager_Num_Application         -0.037593  \n",
       "Manager_Num_Coded                0.013565  \n",
       "Manager_Business                 0.031578  \n",
       "Manager_Num_Products            -0.011000  \n",
       "Manager_Business2                0.031093  \n",
       "Manager_Num_Products2           -0.011706  \n",
       "Business_Sourced                 1.000000  "
      ]
     },
     "execution_count": 222,
     "metadata": {},
     "output_type": "execute_result"
    }
   ],
   "source": [
    "data.corr()"
   ]
  },
  {
   "cell_type": "code",
   "execution_count": 223,
   "metadata": {},
   "outputs": [
    {
     "data": {
      "text/plain": [
       "<matplotlib.axes._subplots.AxesSubplot at 0x267a85731c8>"
      ]
     },
     "execution_count": 223,
     "metadata": {},
     "output_type": "execute_result"
    },
    {
     "data": {
      "image/png": "[encoded data removed]",
      "text/plain": [
       "<Figure size 720x720 with 1 Axes>"
      ]
     },
     "metadata": {
      "needs_background": "light"
     },
     "output_type": "display_data"
    }
   ],
   "source": [
    "plt.subplots(figsize=(10,10))\n",
    "sns.heatmap(data.corr(), annot = True, vmin=-1, vmax=1, center= 0, cmap= 'coolwarm', linewidths=3, linecolor='black',cbar=False)"
   ]
  },
  {
   "cell_type": "code",
   "execution_count": 224,
   "metadata": {
    "scrolled": true
   },
   "outputs": [
    {
     "data": {
      "text/plain": [
       "Applicant_Occupation           1221\n",
       "Manager_Current_Designation     683\n",
       "Manager_Gender                  683\n",
       "Manager_DOJ                     683\n",
       "Manager_Joining_Designation     683\n",
       "Manager_Num_Products2           683\n",
       "Manager_Status                  683\n",
       "Manager_Grade                   683\n",
       "Manager_DoB                     683\n",
       "Manager_Num_Application         683\n",
       "Manager_Num_Coded               683\n",
       "Manager_Business                683\n",
       "Manager_Num_Products            683\n",
       "Manager_Business2               683\n",
       "Applicant_City_PIN               97\n",
       "Applicant_Qualification          86\n",
       "Applicant_Marital_Status         73\n",
       "Applicant_BirthDate              73\n",
       "Applicant_Gender                 67\n",
       "Office_PIN                        0\n",
       "Business_Sourced                  0\n",
       "Application_Receipt_Date          0\n",
       "ID                                0\n",
       "dtype: int64"
      ]
     },
     "execution_count": 224,
     "metadata": {},
     "output_type": "execute_result"
    }
   ],
   "source": [
    "data.isnull().sum().sort_values(ascending=False)"
   ]
  },
  {
   "cell_type": "code",
   "execution_count": 225,
   "metadata": {},
   "outputs": [],
   "source": [
    "data[\"Manager_Joining_Designation\"].fillna(data[\"Manager_Joining_Designation\"].mode()[0],inplace=True)\n",
    "# data[\"Manager_Num_Products\"].fillna(data[\"Manager_Num_Products\"].mode()[0],inplace=True)\n",
    "data[\"Applicant_Occupation\"].fillna(\"Others\",inplace=True)\n",
    "data[\"Manager_Current_Designation\"].fillna(data[\"Manager_Current_Designation\"].mode()[0],inplace=True)\n",
    "data[\"Manager_Status\"].fillna(data[\"Manager_Status\"].mode()[0],inplace=True)\n",
    "data[\"Manager_Num_Coded\"].fillna(data[\"Manager_Num_Coded\"].mode()[0],inplace=True)\n",
    "data[\"Manager_DoB\"].fillna(data[\"Manager_DoB\"].mode()[0],inplace=True)\n",
    "data[\"Manager_Grade\"].fillna(data[\"Manager_Grade\"].mode()[0],inplace=True)\n",
    "data[\"Manager_Num_Application\"].fillna(data[\"Manager_Num_Application\"].mode()[0],inplace=True)\n",
    "data[\"Manager_DOJ\"].fillna(data[\"Manager_DOJ\"].mode()[0],inplace=True)\n",
    "data[\"Applicant_City_PIN\"].fillna(data[\"Applicant_City_PIN\"].mode()[0],inplace=True)\n",
    "data[\"Applicant_Qualification\"].fillna(data[\"Applicant_Qualification\"].mode()[0],inplace=True)\n",
    "data[\"Applicant_BirthDate\"].fillna(data[\"Applicant_BirthDate\"].mode()[0],inplace=True)\n",
    "data[\"Applicant_Marital_Status\"].fillna(data[\"Applicant_Marital_Status\"].mode()[0],inplace=True)"
   ]
  },
  {
   "cell_type": "code",
   "execution_count": 226,
   "metadata": {},
   "outputs": [
    {
     "data": {
      "text/plain": [
       "0    3.0\n",
       "dtype: float64"
      ]
     },
     "execution_count": 226,
     "metadata": {},
     "output_type": "execute_result"
    }
   ],
   "source": [
    "data[\"Manager_Grade\"].mode()"
   ]
  },
  {
   "cell_type": "code",
   "execution_count": 227,
   "metadata": {},
   "outputs": [
    {
     "data": {
      "text/plain": [
       "202001.0    200\n",
       "492001.0     75\n",
       "305001.0     64\n",
       "452001.0     55\n",
       "476001.0     51\n",
       "           ... \n",
       "160055.0      1\n",
       "533341.0      1\n",
       "400002.0      1\n",
       "400013.0      1\n",
       "172033.0      1\n",
       "Name: Applicant_City_PIN, Length: 2979, dtype: int64"
      ]
     },
     "execution_count": 227,
     "metadata": {},
     "output_type": "execute_result"
    }
   ],
   "source": [
    "data[\"Applicant_City_PIN\"].value_counts()"
   ]
  },
  {
   "cell_type": "code",
   "execution_count": 228,
   "metadata": {},
   "outputs": [
    {
     "data": {
      "text/plain": [
       "<matplotlib.axes._subplots.AxesSubplot at 0x267a8877a08>"
      ]
     },
     "execution_count": 228,
     "metadata": {},
     "output_type": "execute_result"
    },
    {
     "data": {
      "image/png": "[encoded data removed]",
      "text/plain": [
       "<Figure size 432x288 with 1 Axes>"
      ]
     },
     "metadata": {
      "needs_background": "light"
     },
     "output_type": "display_data"
    }
   ],
   "source": [
    "data[\"Applicant_Qualification\"].value_counts().plot.bar()"
   ]
  },
  {
   "cell_type": "code",
   "execution_count": 229,
   "metadata": {},
   "outputs": [
    {
     "data": {
      "text/plain": [
       "1/3/1978     97\n",
       "1/3/1980     20\n",
       "1/2/1977     18\n",
       "1/3/1979     16\n",
       "1/3/1976     13\n",
       "             ..\n",
       "6/16/1988     1\n",
       "4/27/1968     1\n",
       "3/11/1955     1\n",
       "4/8/1972      1\n",
       "8/15/1985     1\n",
       "Name: Applicant_BirthDate, Length: 5836, dtype: int64"
      ]
     },
     "execution_count": 229,
     "metadata": {},
     "output_type": "execute_result"
    }
   ],
   "source": [
    "data[\"Applicant_BirthDate\"].value_counts()"
   ]
  },
  {
   "cell_type": "code",
   "execution_count": 230,
   "metadata": {},
   "outputs": [
    {
     "data": {
      "text/plain": [
       "<matplotlib.axes._subplots.AxesSubplot at 0x267a8600448>"
      ]
     },
     "execution_count": 230,
     "metadata": {},
     "output_type": "execute_result"
    },
    {
     "data": {
      "image/png": "[encoded data removed]",
      "text/plain": [
       "<Figure size 432x288 with 1 Axes>"
      ]
     },
     "metadata": {
      "needs_background": "light"
     },
     "output_type": "display_data"
    }
   ],
   "source": [
    "data[\"Applicant_Marital_Status\"].value_counts().plot.bar()"
   ]
  },
  {
   "cell_type": "code",
   "execution_count": 231,
   "metadata": {},
   "outputs": [
    {
     "data": {
      "text/plain": [
       "<matplotlib.axes._subplots.AxesSubplot at 0x267a866aa48>"
      ]
     },
     "execution_count": 231,
     "metadata": {},
     "output_type": "execute_result"
    },
    {
     "data": {
      "image/png": "[encoded data removed]",
      "text/plain": [
       "<Figure size 432x288 with 1 Axes>"
      ]
     },
     "metadata": {
      "needs_background": "light"
     },
     "output_type": "display_data"
    }
   ],
   "source": [
    "data[\"Manager_Gender\"].value_counts().plot.bar()"
   ]
  },
  {
   "cell_type": "code",
   "execution_count": 232,
   "metadata": {},
   "outputs": [
    {
     "data": {
      "text/plain": [
       "Index(['Manager_Business2', 'Manager_Num_Products', 'Manager_Business',\n",
       "       'Manager_Gender', 'Manager_Num_Products2', 'Applicant_Gender'],\n",
       "      dtype='object')"
      ]
     },
     "execution_count": 232,
     "metadata": {},
     "output_type": "execute_result"
    }
   ],
   "source": [
    "to_drop = data.isnull().sum().sort_values(ascending=False)[:6].keys()\n",
    "to_drop"
   ]
  },
  {
   "cell_type": "code",
   "execution_count": 233,
   "metadata": {},
   "outputs": [],
   "source": [
    "[data.drop(i,axis=1,inplace=True) for i in to_drop][0]"
   ]
  },
  {
   "cell_type": "code",
   "execution_count": 234,
   "metadata": {},
   "outputs": [
    {
     "data": {
      "text/html": [
       "<div>\n",
       "<style scoped>\n",
       "    .dataframe tbody tr th:only-of-type {\n",
       "        vertical-align: middle;\n",
       "    }\n",
       "\n",
       "    .dataframe tbody tr th {\n",
       "        vertical-align: top;\n",
       "    }\n",
       "\n",
       "    .dataframe thead th {\n",
       "        text-align: right;\n",
       "    }\n",
       "</style>\n",
       "<table border=\"1\" class=\"dataframe\">\n",
       "  <thead>\n",
       "    <tr style=\"text-align: right;\">\n",
       "      <th></th>\n",
       "      <th>Office_PIN</th>\n",
       "      <th>Applicant_City_PIN</th>\n",
       "      <th>Manager_Grade</th>\n",
       "      <th>Manager_Num_Application</th>\n",
       "      <th>Manager_Num_Coded</th>\n",
       "      <th>Business_Sourced</th>\n",
       "    </tr>\n",
       "  </thead>\n",
       "  <tbody>\n",
       "    <tr>\n",
       "      <th>count</th>\n",
       "      <td>9527.000000</td>\n",
       "      <td>9527.000000</td>\n",
       "      <td>9527.000000</td>\n",
       "      <td>9527.000000</td>\n",
       "      <td>9527.000000</td>\n",
       "      <td>9527.00000</td>\n",
       "    </tr>\n",
       "    <tr>\n",
       "      <th>mean</th>\n",
       "      <td>452894.372205</td>\n",
       "      <td>454190.445891</td>\n",
       "      <td>3.245198</td>\n",
       "      <td>1.800672</td>\n",
       "      <td>0.704524</td>\n",
       "      <td>0.34292</td>\n",
       "    </tr>\n",
       "    <tr>\n",
       "      <th>std</th>\n",
       "      <td>235690.618252</td>\n",
       "      <td>239439.833705</td>\n",
       "      <td>1.098030</td>\n",
       "      <td>2.131576</td>\n",
       "      <td>1.161856</td>\n",
       "      <td>0.47471</td>\n",
       "    </tr>\n",
       "    <tr>\n",
       "      <th>min</th>\n",
       "      <td>110005.000000</td>\n",
       "      <td>110001.000000</td>\n",
       "      <td>1.000000</td>\n",
       "      <td>0.000000</td>\n",
       "      <td>0.000000</td>\n",
       "      <td>0.00000</td>\n",
       "    </tr>\n",
       "    <tr>\n",
       "      <th>25%</th>\n",
       "      <td>226001.000000</td>\n",
       "      <td>226003.000000</td>\n",
       "      <td>2.000000</td>\n",
       "      <td>0.000000</td>\n",
       "      <td>0.000000</td>\n",
       "      <td>0.00000</td>\n",
       "    </tr>\n",
       "    <tr>\n",
       "      <th>50%</th>\n",
       "      <td>416001.000000</td>\n",
       "      <td>421501.000000</td>\n",
       "      <td>3.000000</td>\n",
       "      <td>1.000000</td>\n",
       "      <td>0.000000</td>\n",
       "      <td>0.00000</td>\n",
       "    </tr>\n",
       "    <tr>\n",
       "      <th>75%</th>\n",
       "      <td>695014.000000</td>\n",
       "      <td>695013.500000</td>\n",
       "      <td>4.000000</td>\n",
       "      <td>3.000000</td>\n",
       "      <td>1.000000</td>\n",
       "      <td>1.00000</td>\n",
       "    </tr>\n",
       "    <tr>\n",
       "      <th>max</th>\n",
       "      <td>851101.000000</td>\n",
       "      <td>995657.000000</td>\n",
       "      <td>10.000000</td>\n",
       "      <td>22.000000</td>\n",
       "      <td>9.000000</td>\n",
       "      <td>1.00000</td>\n",
       "    </tr>\n",
       "  </tbody>\n",
       "</table>\n",
       "</div>"
      ],
      "text/plain": [
       "          Office_PIN  Applicant_City_PIN  Manager_Grade  \\\n",
       "count    9527.000000         9527.000000    9527.000000   \n",
       "mean   452894.372205       454190.445891       3.245198   \n",
       "std    235690.618252       239439.833705       1.098030   \n",
       "min    110005.000000       110001.000000       1.000000   \n",
       "25%    226001.000000       226003.000000       2.000000   \n",
       "50%    416001.000000       421501.000000       3.000000   \n",
       "75%    695014.000000       695013.500000       4.000000   \n",
       "max    851101.000000       995657.000000      10.000000   \n",
       "\n",
       "       Manager_Num_Application  Manager_Num_Coded  Business_Sourced  \n",
       "count              9527.000000        9527.000000        9527.00000  \n",
       "mean                  1.800672           0.704524           0.34292  \n",
       "std                   2.131576           1.161856           0.47471  \n",
       "min                   0.000000           0.000000           0.00000  \n",
       "25%                   0.000000           0.000000           0.00000  \n",
       "50%                   1.000000           0.000000           0.00000  \n",
       "75%                   3.000000           1.000000           1.00000  \n",
       "max                  22.000000           9.000000           1.00000  "
      ]
     },
     "execution_count": 234,
     "metadata": {},
     "output_type": "execute_result"
    }
   ],
   "source": [
    "data.describe()"
   ]
  },
  {
   "cell_type": "code",
   "execution_count": 236,
   "metadata": {},
   "outputs": [
    {
     "data": {
      "text/plain": [
       "Business_Sourced               0\n",
       "Applicant_Qualification        0\n",
       "Office_PIN                     0\n",
       "Application_Receipt_Date       0\n",
       "Applicant_City_PIN             0\n",
       "Applicant_BirthDate            0\n",
       "Applicant_Marital_Status       0\n",
       "Applicant_Occupation           0\n",
       "Manager_DOJ                    0\n",
       "Manager_Num_Coded              0\n",
       "Manager_Joining_Designation    0\n",
       "Manager_Current_Designation    0\n",
       "Manager_Grade                  0\n",
       "Manager_Status                 0\n",
       "Manager_DoB                    0\n",
       "Manager_Num_Application        0\n",
       "ID                             0\n",
       "dtype: int64"
      ]
     },
     "execution_count": 236,
     "metadata": {},
     "output_type": "execute_result"
    }
   ],
   "source": [
    "data.isnull().sum().sort_values(ascending=False)"
   ]
  },
  {
   "cell_type": "code",
   "execution_count": 237,
   "metadata": {},
   "outputs": [
    {
     "data": {
      "text/html": [
       "<div>\n",
       "<style scoped>\n",
       "    .dataframe tbody tr th:only-of-type {\n",
       "        vertical-align: middle;\n",
       "    }\n",
       "\n",
       "    .dataframe tbody tr th {\n",
       "        vertical-align: top;\n",
       "    }\n",
       "\n",
       "    .dataframe thead th {\n",
       "        text-align: right;\n",
       "    }\n",
       "</style>\n",
       "<table border=\"1\" class=\"dataframe\">\n",
       "  <thead>\n",
       "    <tr style=\"text-align: right;\">\n",
       "      <th></th>\n",
       "      <th>ID</th>\n",
       "      <th>Office_PIN</th>\n",
       "      <th>Application_Receipt_Date</th>\n",
       "      <th>Applicant_City_PIN</th>\n",
       "      <th>Applicant_BirthDate</th>\n",
       "      <th>Applicant_Marital_Status</th>\n",
       "      <th>Applicant_Occupation</th>\n",
       "      <th>Applicant_Qualification</th>\n",
       "      <th>Manager_DOJ</th>\n",
       "      <th>Manager_Joining_Designation</th>\n",
       "      <th>Manager_Current_Designation</th>\n",
       "      <th>Manager_Grade</th>\n",
       "      <th>Manager_Status</th>\n",
       "      <th>Manager_DoB</th>\n",
       "      <th>Manager_Num_Application</th>\n",
       "      <th>Manager_Num_Coded</th>\n",
       "      <th>Business_Sourced</th>\n",
       "    </tr>\n",
       "  </thead>\n",
       "  <tbody>\n",
       "    <tr>\n",
       "      <th>0</th>\n",
       "      <td>FIN1000001</td>\n",
       "      <td>842001</td>\n",
       "      <td>4/16/2007</td>\n",
       "      <td>844120.0</td>\n",
       "      <td>12/19/1971</td>\n",
       "      <td>M</td>\n",
       "      <td>Others</td>\n",
       "      <td>Graduate</td>\n",
       "      <td>11/10/2005</td>\n",
       "      <td>Level 1</td>\n",
       "      <td>Level 2</td>\n",
       "      <td>3.0</td>\n",
       "      <td>Confirmation</td>\n",
       "      <td>2/17/1978</td>\n",
       "      <td>2.0</td>\n",
       "      <td>1.0</td>\n",
       "      <td>0</td>\n",
       "    </tr>\n",
       "    <tr>\n",
       "      <th>1</th>\n",
       "      <td>FIN1000002</td>\n",
       "      <td>842001</td>\n",
       "      <td>4/16/2007</td>\n",
       "      <td>844111.0</td>\n",
       "      <td>2/17/1983</td>\n",
       "      <td>S</td>\n",
       "      <td>Others</td>\n",
       "      <td>Class XII</td>\n",
       "      <td>11/10/2005</td>\n",
       "      <td>Level 1</td>\n",
       "      <td>Level 2</td>\n",
       "      <td>3.0</td>\n",
       "      <td>Confirmation</td>\n",
       "      <td>2/17/1978</td>\n",
       "      <td>2.0</td>\n",
       "      <td>1.0</td>\n",
       "      <td>1</td>\n",
       "    </tr>\n",
       "    <tr>\n",
       "      <th>2</th>\n",
       "      <td>FIN1000003</td>\n",
       "      <td>800001</td>\n",
       "      <td>4/16/2007</td>\n",
       "      <td>844101.0</td>\n",
       "      <td>1/16/1966</td>\n",
       "      <td>M</td>\n",
       "      <td>Business</td>\n",
       "      <td>Class XII</td>\n",
       "      <td>5/27/2006</td>\n",
       "      <td>Level 1</td>\n",
       "      <td>Level 1</td>\n",
       "      <td>2.0</td>\n",
       "      <td>Confirmation</td>\n",
       "      <td>3/3/1969</td>\n",
       "      <td>0.0</td>\n",
       "      <td>0.0</td>\n",
       "      <td>0</td>\n",
       "    </tr>\n",
       "    <tr>\n",
       "      <th>3</th>\n",
       "      <td>FIN1000004</td>\n",
       "      <td>814112</td>\n",
       "      <td>4/16/2007</td>\n",
       "      <td>814112.0</td>\n",
       "      <td>2/3/1988</td>\n",
       "      <td>S</td>\n",
       "      <td>Salaried</td>\n",
       "      <td>Class XII</td>\n",
       "      <td>8/21/2003</td>\n",
       "      <td>Level 1</td>\n",
       "      <td>Level 3</td>\n",
       "      <td>4.0</td>\n",
       "      <td>Confirmation</td>\n",
       "      <td>8/14/1978</td>\n",
       "      <td>0.0</td>\n",
       "      <td>0.0</td>\n",
       "      <td>0</td>\n",
       "    </tr>\n",
       "    <tr>\n",
       "      <th>4</th>\n",
       "      <td>FIN1000005</td>\n",
       "      <td>814112</td>\n",
       "      <td>4/16/2007</td>\n",
       "      <td>815351.0</td>\n",
       "      <td>7/4/1985</td>\n",
       "      <td>M</td>\n",
       "      <td>Others</td>\n",
       "      <td>Class XII</td>\n",
       "      <td>5/8/2006</td>\n",
       "      <td>Level 1</td>\n",
       "      <td>Level 1</td>\n",
       "      <td>2.0</td>\n",
       "      <td>Confirmation</td>\n",
       "      <td>2/7/1971</td>\n",
       "      <td>2.0</td>\n",
       "      <td>1.0</td>\n",
       "      <td>0</td>\n",
       "    </tr>\n",
       "  </tbody>\n",
       "</table>\n",
       "</div>"
      ],
      "text/plain": [
       "           ID  Office_PIN Application_Receipt_Date  Applicant_City_PIN  \\\n",
       "0  FIN1000001      842001                4/16/2007            844120.0   \n",
       "1  FIN1000002      842001                4/16/2007            844111.0   \n",
       "2  FIN1000003      800001                4/16/2007            844101.0   \n",
       "3  FIN1000004      814112                4/16/2007            814112.0   \n",
       "4  FIN1000005      814112                4/16/2007            815351.0   \n",
       "\n",
       "  Applicant_BirthDate Applicant_Marital_Status Applicant_Occupation  \\\n",
       "0          12/19/1971                        M               Others   \n",
       "1           2/17/1983                        S               Others   \n",
       "2           1/16/1966                        M             Business   \n",
       "3            2/3/1988                        S             Salaried   \n",
       "4            7/4/1985                        M               Others   \n",
       "\n",
       "  Applicant_Qualification Manager_DOJ Manager_Joining_Designation  \\\n",
       "0                Graduate  11/10/2005                     Level 1   \n",
       "1               Class XII  11/10/2005                     Level 1   \n",
       "2               Class XII   5/27/2006                     Level 1   \n",
       "3               Class XII   8/21/2003                     Level 1   \n",
       "4               Class XII    5/8/2006                     Level 1   \n",
       "\n",
       "  Manager_Current_Designation  Manager_Grade Manager_Status Manager_DoB  \\\n",
       "0                     Level 2            3.0   Confirmation   2/17/1978   \n",
       "1                     Level 2            3.0   Confirmation   2/17/1978   \n",
       "2                     Level 1            2.0   Confirmation    3/3/1969   \n",
       "3                     Level 3            4.0   Confirmation   8/14/1978   \n",
       "4                     Level 1            2.0   Confirmation    2/7/1971   \n",
       "\n",
       "   Manager_Num_Application  Manager_Num_Coded  Business_Sourced  \n",
       "0                      2.0                1.0                 0  \n",
       "1                      2.0                1.0                 1  \n",
       "2                      0.0                0.0                 0  \n",
       "3                      0.0                0.0                 0  \n",
       "4                      2.0                1.0                 0  "
      ]
     },
     "execution_count": 237,
     "metadata": {},
     "output_type": "execute_result"
    }
   ],
   "source": [
    "data.head()"
   ]
  },
  {
   "cell_type": "code",
   "execution_count": null,
   "metadata": {},
   "outputs": [],
   "source": []
  }
 ],
 "metadata": {
  "kernelspec": {
   "display_name": "Python 3",
   "language": "python",
   "name": "python3"
  },
  "language_info": {
   "codemirror_mode": {
    "name": "ipython",
    "version": 3
   },
   "file_extension": ".py",
   "mimetype": "text/x-python",
   "name": "python",
   "nbconvert_exporter": "python",
   "pygments_lexer": "ipython3",
   "version": "3.7.6"
  }
 },
 "nbformat": 4,
 "nbformat_minor": 2
}
